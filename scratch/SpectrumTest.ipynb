{
 "cells": [
  {
   "cell_type": "code",
   "execution_count": null,
   "id": "c9decab6-f2bb-45db-9fe6-148be1f2816a",
   "metadata": {},
   "outputs": [],
   "source": [
    "'''\n",
    "important finding: In the hirex data only every fourth image corresponds to a spectrum. It records for the maximum rate.\n",
    "First spectrum seems to be at index 20\n",
    "drop first spectrum, the first agipd image in the raw data is used as a dark and dropped when moving to the calibrated version\n",
    "'''\n",
    "import sys\n",
    "sys.path.append('/gpfs/exfel/exp/SPB/202501/p006933/usr/Software/')\n",
    "from analysistools import data_helper as dh\n",
    "import numpy as np\n",
    "import matplotlib.pyplot as plt\n",
    "import scipy \n",
    "import time\n",
    "from generatorpipeline.generatorpipeline import generatorpipeline as gp\n",
    "from generatorpipeline.generatorpipeline import accumulators\n",
    "trains_dh=dh.train_source(run=8)\n",
    "hist=dh.Histogrammer(bins=100, range=(10,500))\n",
    "\n",
    "def mask_spectrum(line):\n",
    "    mask=np.ones(len(line), dtype=bool)\n",
    "    mask[201:208]=0\n",
    "    mask[1282:1284]=0\n",
    "    mask[1808:1824]=0\n",
    "    return mask\n",
    "\n",
    "default_mask=mask_spectrum(np.ones(2560))\n",
    "\n",
    "def check_for_spectrum(line, mask=default_mask):\n",
    "    histogram=hist(line[mask])\n",
    "    hist_mask=hist.centers()>50\n",
    "    return np.sum(histogram[hist_mask])> 10\n",
    "    "
   ]
  },
  {
   "cell_type": "code",
   "execution_count": null,
   "id": "6a471baf-cf74-4a48-8d76-595c6cde1968",
   "metadata": {},
   "outputs": [],
   "source": [
    "def autocorrelate(spectrum):\n",
    "    spectrum2=spectrum[~np.isnan(spectrum)]\n",
    "    return scipy.signal.correlate(spectrum2, spectrum2, mode=\"full\", method='fft')\n",
    "\n",
    "\n",
    "@gp.pipeline(20)\n",
    "def mean_autocorrelation_train(train):\n",
    "    skipped_first=False\n",
    "    auto=accumulators.Mean()\n",
    "    data=train[1]\n",
    "    spec_data=data[dh.det['hirex']]['data.adc']\n",
    "    for index in range(np.shape(spec_data)[0]):\n",
    "        curr_spec=spec_data[index,:]\n",
    "        if check_for_spectrum(curr_spec) and skipped_first:\n",
    "            auto.accumulate(autocorrelate(curr_spec))\n",
    "        elif not skipped_first and check_for_spectrum(curr_spec):\n",
    "            skipped_first=True\n",
    "    return auto\n",
    "\n",
    "def mean_autocorrelation_run(run=8):\n",
    "    t0=time.time()\n",
    "    trains=dh.spec_source(run)\n",
    "    auto_trains=mean_autocorrelation_train(trains)\n",
    "    acc=accumulators.Mean()\n",
    "    n=0\n",
    "    for spec_auto in auto_trains:\n",
    "        acc.accumulate(spec_auto)\n",
    "    t1=time.time()\n",
    "    print(t1-t0)\n",
    "    return acc.value\n",
    "    "
   ]
  },
  {
   "cell_type": "code",
   "execution_count": null,
   "id": "4adbb208-590f-4bf4-879a-176795ae13f1",
   "metadata": {},
   "outputs": [],
   "source": [
    "train=next(trains_dh)\n",
    "mean_autocorrelation_train(train)"
   ]
  },
  {
   "cell_type": "code",
   "execution_count": null,
   "id": "f489229b-cb16-4a55-814a-35e3fbede9cd",
   "metadata": {},
   "outputs": [],
   "source": [
    "auto=mean_autocorrelation_run(35)"
   ]
  },
  {
   "cell_type": "code",
   "execution_count": null,
   "id": "f16d235a-4f02-42d1-8576-5d760ffdd46a",
   "metadata": {},
   "outputs": [],
   "source": [
    "plt.plot(auto)\n",
    "plt.xlim(2535, 2575)\n",
    "plt.xlabel('')"
   ]
  },
  {
   "cell_type": "code",
   "execution_count": null,
   "id": "5409589d-475f-4acd-814e-edceff15bdb7",
   "metadata": {},
   "outputs": [],
   "source": [
    "plt.plot(auto)\n",
    "plt.xlim(2535, 2575)\n",
    "plt.title('run 34')\n",
    "plt.xlabel('')"
   ]
  },
  {
   "cell_type": "code",
   "execution_count": null,
   "id": "ffb31adc-d22d-4838-8ef7-70a4a7dbb3eb",
   "metadata": {},
   "outputs": [],
   "source": [
    "data=next(trains_dh)[1]"
   ]
  },
  {
   "cell_type": "code",
   "execution_count": null,
   "id": "a171a25e-ff8a-4a66-89b9-324e27c587b5",
   "metadata": {},
   "outputs": [],
   "source": [
    "index=20\n",
    "line=np.copy(data[dh.det['hirex']]['data.adc'][index,:])\n",
    "x=np.arange(len(line))\n",
    "line[~default_mask]=0\n",
    "plt.plot(x, line)\n",
    "plt.xlabel('energy')\n",
    "plt.ylabel('spectral density')\n",
    "plt.ylim(-20,200)\n",
    "plt.show()\n",
    "check_for_spectrum(line)\n",
    "plt.plot(autocorrelate(line))\n",
    "print(autocorrelate(line))"
   ]
  },
  {
   "cell_type": "code",
   "execution_count": null,
   "id": "74acab4d-bf00-4d11-9503-539bf3e68f11",
   "metadata": {},
   "outputs": [],
   "source": [
    "n=0\n",
    "for i in range(1500):\n",
    "    line=np.copy(data[dh.det['hirex']]['data.adc'][i,:])\n",
    "    if check_for_spectrum(line):\n",
    "        n+=1\n",
    "print(n)    "
   ]
  },
  {
   "cell_type": "code",
   "execution_count": null,
   "id": "aa1abb85-b024-45c1-a5c1-ef739d348c6e",
   "metadata": {},
   "outputs": [],
   "source": [
    "mask=line<-100\n",
    "np.where(mask1!=0)"
   ]
  },
  {
   "cell_type": "code",
   "execution_count": null,
   "id": "de2b93ab-dec0-41bd-abed-7608e498ef7f",
   "metadata": {},
   "outputs": [],
   "source": [
    "index=20\n",
    "roi_min=1000\n",
    "roi_max=1500\n",
    "x=np.arange(len(data[dh.det['hirex']]['data.adc'][index,:]))\n",
    "plt.plot(x, data[dh.det['hirex']]['data.adc'][index,:])\n",
    "plt.plot(x[roi_min:roi_max], data[dh.det['hirex']]['data.adc'][index,roi_min:roi_max])\n",
    "plt.show()\n",
    "plt.plot(hist.centers(),hist(data[dh.det['hirex']]['data.adc'][index,roi_min:roi_max]))\n",
    "plt.yscale('log')"
   ]
  },
  {
   "cell_type": "code",
   "execution_count": null,
   "id": "9fb8582c-dc9c-4ac6-a691-ee9c1683b66d",
   "metadata": {},
   "outputs": [],
   "source": [
    "data.keys()#['image.pulseId']/4"
   ]
  },
  {
   "cell_type": "code",
   "execution_count": null,
   "id": "abae5012-75c1-47f2-90be-7fe408486a5c",
   "metadata": {},
   "outputs": [],
   "source": []
  }
 ],
 "metadata": {
  "kernelspec": {
   "display_name": "xfel (current)",
   "language": "python",
   "name": "xfel-current"
  },
  "language_info": {
   "codemirror_mode": {
    "name": "ipython",
    "version": 3
   },
   "file_extension": ".py",
   "mimetype": "text/x-python",
   "name": "python",
   "nbconvert_exporter": "python",
   "pygments_lexer": "ipython3",
   "version": "3.11.6"
  }
 },
 "nbformat": 4,
 "nbformat_minor": 5
}
