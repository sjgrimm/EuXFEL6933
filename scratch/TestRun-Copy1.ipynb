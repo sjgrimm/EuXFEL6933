{
 "cells": [
  {
   "cell_type": "code",
   "execution_count": 2,
   "id": "10e66128-e3b3-45da-a417-e7049636a1a6",
   "metadata": {},
   "outputs": [],
   "source": [
    "import sys\n",
    "sys.path.append('/gpfs/exfel/exp/SPB/202501/p006933/usr/Software/scratch')\n",
    "import data_helper as dh\n",
    "sys.path.append('/gpfs/exfel/exp/SPB/202501/p006933/usr/Software/analysistools')\n",
    "#import focus_scan as fs\n",
    "sys.path.append('/gpfs/exfel/exp/SPB/202501/p006933/usr/Software/generatorpipeline')\n",
    "import generatorpipeline.accumulators as acc\n",
    "\n",
    "import extra_data as ex\n",
    "import matplotlib.pyplot as plt\n",
    "import numpy as np\n",
    "\n",
    "%matplotlib widget"
   ]
  },
  {
   "cell_type": "code",
   "execution_count": 3,
   "id": "05cd103e-d264-4ace-bf74-e9be2b87eef7",
   "metadata": {},
   "outputs": [],
   "source": [
    "#m = fs.mask_img_ring()\n",
    "#m.shape"
   ]
  },
  {
   "cell_type": "code",
   "execution_count": 4,
   "id": "c24471a6-e73a-4216-9b46-ffe2fe74d430",
   "metadata": {},
   "outputs": [],
   "source": [
    "#geom = dh.getGeometry()\n",
    "#print(type(geom))\n",
    "#img, c = geom.position_modules(m)\n",
    "#print(img.shape)\n",
    "#plt.figure()\n",
    "#plt.imshow(img)"
   ]
  },
  {
   "cell_type": "code",
   "execution_count": 5,
   "id": "857a7f43-9f8e-4f4e-ace3-bd04c62b5ca7",
   "metadata": {},
   "outputs": [],
   "source": [
    "data = dh.train_source(1, verbose=True)"
   ]
  },
  {
   "cell_type": "code",
   "execution_count": 6,
   "id": "5d0ea548-f92f-4115-b62c-d2d466537d4f",
   "metadata": {},
   "outputs": [
    {
     "name": "stdout",
     "output_type": "stream",
     "text": [
      "# of trains:    61\n",
      "Duration:       0:00:06.1\n",
      "First train ID: 2269294077\n",
      "Last train ID:  2269294137\n",
      "\n",
      "16 XTDF detector modules of SPB_DET_AGIPD1M-1/CORR/*\n",
      "  e.g. module 0 : 512 x 128 pixels\n",
      "  SPB_DET_AGIPD1M-1/CORR/0CH0:output\n",
      "  351 frames per train, up to 21411 frames total\n",
      "\n",
      "16 XTDF detector modules of SPB_DET_AGIPD1M-1/DET/*\n",
      "  e.g. module 0 : 512 x 128 pixels\n",
      "  SPB_DET_AGIPD1M-1/DET/0CH0:xtdf\n",
      "  352 frames per train, up to 21472 frames total\n",
      "\n",
      "12 instrument sources (excluding XTDF detectors):\n",
      "  - SA1_XTD2_XGM/XGM/DOOCS:output \n",
      "  - SA1_XTD9_HIREX/CORR/GOTTHARD_RECEIVER:daqOutput \n",
      "  - SA1_XTD9_HIREX/DET/GOTTHARD2_MASTER:daqOutput \n",
      "  - SA1_XTD9_HIREX/DET/GOTTHARD2_SLAVE:daqOutput \n",
      "  - SPB_DET_AGIPD1M-1/REDU/SPI_HITFINDER:output \n",
      "  - SPB_EHD_IBS/CAM/1:daqOutput \n",
      "  - SPB_EXP_SYS/TSYS/TIMESERVER:outputBunchPattern \n",
      "  - SPB_EXP_ZYLA/CAM/1:daqOutput \n",
      "  - SPB_IRU_AEROSOL/CAM/CAM_1:daqOutput \n",
      "  - SPB_IRU_AGIPD1M1/REDU/LITFRM:output \n",
      "  - SPB_RR_SYS/TSYS/X2TIMER2:outputBunchPattern \n",
      "  - SPB_XTD9_XGM/XGM/DOOCS:output \n",
      "\n",
      "52 control sources:\n",
      "  - ACC_SYS_DOOCS/CTRL/BEAMCONDITIONS \n",
      "  - SA1_XTD2_ATT/MDL/MAIN \n",
      "  - SA1_XTD2_XGM/XGM/DOOCS \n",
      "  - SA1_XTD9_HIREX/DET/GOTTHARD2_CTRL \n",
      "  - SA1_XTD9_HIREX/MDL/DATA_SELECT \n",
      "  - SPB_DET_AGIPD1M-1/CC/MON_0 \n",
      "  - SPB_DET_AGIPD1M-1/REDU/SPI_HITFINDER \n",
      "  - SPB_EHD_IBS/CAM/1 \n",
      "  - SPB_EXP_HV/MDL/SHQ1 \n",
      "  - SPB_EXP_SYS/TSYS/UTC_1_S3 \n",
      "  - SPB_EXP_ZYLA/CAM/1 \n",
      "  - SPB_IRU_AEROSOL/CAM/CAM_1 \n",
      "  - SPB_IRU_AEROSOL/FLOW/CO2_CAPILLARY \n",
      "  - SPB_IRU_AEROSOL/FLOW/CO2_CHAMBER \n",
      "  - SPB_IRU_AEROSOL/FLOW/DP_2 \n",
      "  - SPB_IRU_AEROSOL/FLOW/HE_CHAMBER \n",
      "  - SPB_IRU_AEROSOL/FLOW/N2_CAPILLARY \n",
      "  - SPB_IRU_AEROSOL/FLOW/N2_CHAMBER \n",
      "  - SPB_IRU_AGIPD1M/MOTOR/Z_STEPPER \n",
      "  - SPB_IRU_AGIPD1M/PSC/HV \n",
      "  - SPB_IRU_AGIPD1M/TSENS/H1_T_EXTHOUS \n",
      "  - SPB_IRU_AGIPD1M/TSENS/H2_T_EXTHOUS \n",
      "  - SPB_IRU_AGIPD1M/TSENS/Q1_T_BLOCK \n",
      "  - SPB_IRU_AGIPD1M/TSENS/Q2_T_BLOCK \n",
      "  - SPB_IRU_AGIPD1M/TSENS/Q3_T_BLOCK \n",
      "  - SPB_IRU_AGIPD1M/TSENS/Q4_T_BLOCK \n",
      "  - SPB_IRU_AGIPD1M1/CTRL/MC1 \n",
      "  - SPB_IRU_AGIPD1M1/CTRL/MC2 \n",
      "  - SPB_IRU_AGIPD1M1/FPGA/MASTER_H1 \n",
      "  - SPB_IRU_AGIPD1M1/FPGA/MASTER_H2 \n",
      "  - SPB_IRU_AGIPD1M1/MDL/DATA_SELECTOR \n",
      "  - SPB_IRU_AGIPD1M1/MDL/FPGA_COMP \n",
      "  - SPB_IRU_AGIPD1M1/REDU/LITFRM \n",
      "  - SPB_IRU_CATCHER/MDL/HEXAPOD \n",
      "  - SPB_IRU_INJMOV/MOTOR/X \n",
      "  - SPB_IRU_INJMOV/MOTOR/Y \n",
      "  - SPB_IRU_INJMOV/MOTOR/Z \n",
      "  - SPB_IRU_INLINEMIC/MOTOR/MIC_AX \n",
      "  - SPB_IRU_INLINEMIC/MOTOR/MIC_AY \n",
      "  - SPB_IRU_INLINEMIC/MOTOR/MIC_X \n",
      "  - SPB_IRU_INLINEMIC/MOTOR/MIC_Y \n",
      "  - SPB_IRU_INLINEMIC/MOTOR/MIC_Z \n",
      "  - SPB_IRU_LIQUIDJET/FLOW/HE \n",
      "  - SPB_IRU_SIDEMIC/MOTOR/MIC_X \n",
      "  - SPB_IRU_SIDEMIC/MOTOR/MIC_Y \n",
      "  - SPB_IRU_SIDEMIC/MOTOR/MIC_Z \n",
      "  - SPB_IRU_VAC/GAUGE/GAUGE_FR_6 \n",
      "  - SPB_RR_SYS/MDL/BUNCH_PATTERN \n",
      "  - SPB_RR_SYS/TSYS/X2TIMER2 \n",
      "  - SPB_XTD2_UND/DOOCS/ENERGY \n",
      "  - SPB_XTD9_ATT/MDL/MAIN \n",
      "  - SPB_XTD9_XGM/XGM/DOOCS \n",
      "\n"
     ]
    }
   ],
   "source": [
    "t, d = next(data)"
   ]
  },
  {
   "cell_type": "code",
   "execution_count": 9,
   "id": "adacdc01-6abe-4f70-8e82-20c676aa32f2",
   "metadata": {},
   "outputs": [
    {
     "data": {
      "text/plain": [
       "2269294077"
      ]
     },
     "execution_count": 9,
     "metadata": {},
     "output_type": "execute_result"
    }
   ],
   "source": [
    "t"
   ]
  },
  {
   "cell_type": "code",
   "execution_count": 10,
   "id": "78c9492c-d1ce-4552-baca-e977ed859e3e",
   "metadata": {},
   "outputs": [
    {
     "data": {
      "text/plain": [
       "['SA1_XTD2_ATT/MDL/MAIN',\n",
       " 'SA1_XTD2_XGM/XGM/DOOCS:output',\n",
       " 'SA1_XTD9_HIREX/CORR/GOTTHARD_RECEIVER:daqOutput',\n",
       " 'SPB_DET_AGIPD1M-1/CORR/0CH0:output',\n",
       " 'SPB_DET_AGIPD1M-1/CORR/10CH0:output',\n",
       " 'SPB_DET_AGIPD1M-1/CORR/11CH0:output',\n",
       " 'SPB_DET_AGIPD1M-1/CORR/12CH0:output',\n",
       " 'SPB_DET_AGIPD1M-1/CORR/13CH0:output',\n",
       " 'SPB_DET_AGIPD1M-1/CORR/14CH0:output',\n",
       " 'SPB_DET_AGIPD1M-1/CORR/15CH0:output',\n",
       " 'SPB_DET_AGIPD1M-1/CORR/1CH0:output',\n",
       " 'SPB_DET_AGIPD1M-1/CORR/2CH0:output',\n",
       " 'SPB_DET_AGIPD1M-1/CORR/3CH0:output',\n",
       " 'SPB_DET_AGIPD1M-1/CORR/4CH0:output',\n",
       " 'SPB_DET_AGIPD1M-1/CORR/5CH0:output',\n",
       " 'SPB_DET_AGIPD1M-1/CORR/6CH0:output',\n",
       " 'SPB_DET_AGIPD1M-1/CORR/7CH0:output',\n",
       " 'SPB_DET_AGIPD1M-1/CORR/8CH0:output',\n",
       " 'SPB_DET_AGIPD1M-1/CORR/9CH0:output',\n",
       " 'SPB_DET_AGIPD1M-1/REDU/SPI_HITFINDER:output',\n",
       " 'SPB_IRU_AGIPD1M/MOTOR/Z_STEPPER',\n",
       " 'SPB_IRU_INJMOV/MOTOR/X',\n",
       " 'SPB_IRU_INJMOV/MOTOR/Y',\n",
       " 'SPB_IRU_INJMOV/MOTOR/Z',\n",
       " 'SPB_XTD2_UND/DOOCS/ENERGY',\n",
       " 'SPB_XTD9_ATT/MDL/MAIN',\n",
       " 'SPB_XTD9_XGM/XGM/DOOCS:output']"
      ]
     },
     "execution_count": 10,
     "metadata": {},
     "output_type": "execute_result"
    }
   ],
   "source": [
    "sorted(d.keys())"
   ]
  },
  {
   "cell_type": "markdown",
   "id": "8b90cbcd-0f1c-4d9f-8a17-146c3e29576f",
   "metadata": {},
   "source": [
    "# Test"
   ]
  },
  {
   "cell_type": "code",
   "execution_count": 7,
   "id": "dab2641d-45ca-4db7-a13d-b2d27d171345",
   "metadata": {},
   "outputs": [
    {
     "data": {
      "text/plain": [
       "dict_keys(['metadata', 'data.dataFlag', 'data.hitscore', 'data.pulseId', 'threshold.value', 'threshold.mu', 'data.trainId', 'data.missFlag', 'data.hitFlag', 'threshold.sig'])"
      ]
     },
     "execution_count": 7,
     "metadata": {},
     "output_type": "execute_result"
    }
   ],
   "source": [
    "d[dh.det['hitfinder']].keys()#['data.image.pixels'])"
   ]
  },
  {
   "cell_type": "markdown",
   "id": "974ff6b3-4d08-4127-b0b5-6d3b7826a378",
   "metadata": {},
   "source": [
    "# AGIPD"
   ]
  },
  {
   "cell_type": "code",
   "execution_count": 9,
   "id": "7f2809f2-47bb-409f-adad-7eb18e8f288b",
   "metadata": {},
   "outputs": [
    {
     "data": {
      "text/plain": [
       "array([0., 0., 0., 0., 0., 0., 0., 0., 0., 0., 0., 0., 0., 0., 0., 0., 0.,\n",
       "       0., 0., 0., 0., 0., 0., 0., 0., 0., 0., 0., 0., 0., 0., 0., 0., 0.,\n",
       "       0., 0., 0., 0., 0., 0., 0., 0., 0., 0., 0., 0., 0., 0., 0., 0., 0.,\n",
       "       0., 0., 0., 0., 0., 0., 0., 0., 0., 0., 0., 0., 0., 0., 0., 0., 0.,\n",
       "       0., 0., 0., 0., 0., 0., 0., 0., 0., 0., 0., 0., 0., 0., 0., 0., 0.,\n",
       "       0., 0., 0., 0., 0., 0., 0., 0., 0., 0., 0., 0., 0., 0., 0., 0., 0.,\n",
       "       0., 0., 0., 0., 0., 0., 0., 0., 0., 0., 0., 0., 0., 0., 0., 0., 0.,\n",
       "       0., 0., 0., 0., 0., 0., 0., 0., 0., 0., 0., 0., 0., 0., 0., 0., 0.,\n",
       "       0., 0., 0., 0., 0., 0., 0., 0., 0., 0., 0., 0., 0., 0., 0., 0., 0.,\n",
       "       0., 0., 0., 0., 0., 0., 0., 0., 0., 0., 0., 0., 0., 0., 0., 0., 0.,\n",
       "       0., 0., 0., 0., 0., 0., 0., 0., 0., 0., 0., 0., 0., 0., 0., 0., 0.,\n",
       "       0., 0., 0., 0., 0., 0., 0., 0., 0., 0., 0., 0., 0., 0., 0., 0., 0.,\n",
       "       0., 0., 0., 0., 0., 0., 0., 0., 0., 0., 0., 0., 0., 0., 0., 0., 0.,\n",
       "       0., 0., 0., 0., 0., 0., 0., 0., 0., 0., 0., 0., 0., 0., 0., 0., 0.,\n",
       "       0., 0., 0., 0., 0., 0., 0., 0., 0., 0., 0., 0., 0., 0., 0., 0., 0.,\n",
       "       0., 0., 0., 0., 0., 0., 0., 0., 0., 0., 0., 0., 0., 0., 0., 0., 0.,\n",
       "       0., 0., 0., 0., 0., 0., 0., 0., 0., 0., 0., 0., 0., 0., 0., 0., 0.,\n",
       "       0., 0., 0., 0., 0., 0., 0., 0., 0., 0., 0., 0., 0., 0., 0., 0., 0.,\n",
       "       0., 0., 0., 0., 0., 0., 0., 0., 0., 0., 0., 0., 0., 0., 0., 0., 0.,\n",
       "       0., 0., 0., 0., 0., 0., 0., 0., 0., 0., 0., 0., 0., 0., 0., 0., 0.,\n",
       "       0., 0., 0., 0., 0., 0., 0., 0., 0., 0., 0.], dtype=float32)"
      ]
     },
     "execution_count": 9,
     "metadata": {},
     "output_type": "execute_result"
    }
   ],
   "source": [
    "img0 = d['SPB_DET_AGIPD1M-1/CORR/0CH0:output']['image.blShift']\n",
    "img0"
   ]
  },
  {
   "cell_type": "code",
   "execution_count": 13,
   "id": "a20c04ba-95b4-46ea-866a-05f535f25b23",
   "metadata": {},
   "outputs": [],
   "source": [
    "t = img0['image.data']"
   ]
  },
  {
   "cell_type": "code",
   "execution_count": 14,
   "id": "f0c6b9f1-d80a-47c7-a06f-63cdfedd6c9f",
   "metadata": {},
   "outputs": [
    {
     "data": {
      "text/plain": [
       "(351, 512, 128)"
      ]
     },
     "execution_count": 14,
     "metadata": {},
     "output_type": "execute_result"
    }
   ],
   "source": [
    "t.shape"
   ]
  },
  {
   "cell_type": "markdown",
   "id": "455e9d38-6bd9-4a14-b988-b7f521fb056c",
   "metadata": {},
   "source": [
    "# XGM"
   ]
  },
  {
   "cell_type": "code",
   "execution_count": 15,
   "id": "84764652-8a21-4f8a-a025-dc841113533a",
   "metadata": {},
   "outputs": [
    {
     "data": {
      "text/plain": [
       "array([1., 1., 1., 1., 1., 1., 1., 1., 1., 1., 1., 1., 1., 1., 1., 1., 1.,\n",
       "       1., 1., 1., 1., 1., 1., 1., 1., 1., 1., 1., 1., 1., 1., 1., 1., 1.,\n",
       "       1., 1., 1., 1., 1., 1., 1., 1., 1., 1., 1., 1., 1., 1., 1., 1., 1.,\n",
       "       1., 1., 1., 1., 1., 1., 1., 1., 1., 1., 1., 1., 1., 1., 1., 1., 1.,\n",
       "       1., 1., 1., 1., 1., 1., 1., 1., 1., 1., 1., 1., 1., 1., 1., 1., 1.,\n",
       "       1., 1., 1., 1., 1., 1., 1., 1., 1., 1., 1., 1., 1., 1., 1., 1., 1.,\n",
       "       1., 1., 1., 1., 1., 1., 1., 1., 1., 1., 1., 1., 1., 1., 1., 1., 1.,\n",
       "       1., 1., 1., 1., 1., 1., 1., 1., 1., 1., 1., 1., 1., 1., 1., 1., 1.,\n",
       "       1., 1., 1., 1., 1., 1., 1., 1., 1., 1., 1., 1., 1., 1., 1., 1., 1.,\n",
       "       1., 1., 1., 1., 1., 1., 1., 1., 1., 1., 1., 1., 1., 1., 1., 1., 1.,\n",
       "       1., 1., 1., 1., 1., 1., 1., 1., 1., 1., 1., 1., 1., 1., 1., 1., 1.,\n",
       "       1., 1., 1., 1., 1., 1., 1., 1., 1., 1., 1., 1., 1., 1., 1., 1., 1.,\n",
       "       1., 1., 1., 1., 1., 1., 1., 1., 1., 1., 1., 1., 1., 1., 1., 1., 1.,\n",
       "       1., 1., 1., 1., 1., 1., 1., 1., 1., 1., 1., 1., 1., 1., 1., 1., 1.,\n",
       "       1., 1., 1., 1., 1., 1., 1., 1., 1., 1., 1., 1., 1., 1., 1., 1., 1.,\n",
       "       1., 1., 1., 1., 1., 1., 1., 1., 1., 1., 1., 1., 1., 1., 1., 1., 1.,\n",
       "       1., 1., 1., 1., 1., 1., 1., 1., 1., 1., 1., 1., 1., 1., 1., 1., 1.,\n",
       "       1., 1., 1., 1., 1., 1., 1., 1., 1., 1., 1., 1., 1., 1., 1., 1., 1.,\n",
       "       1., 1., 1., 1., 1., 1., 1., 1., 1., 1., 1., 1., 1., 1., 1., 1., 1.,\n",
       "       1., 1., 1., 1., 1., 1., 1., 1., 1., 1., 1., 1., 1., 1., 1., 1., 1.,\n",
       "       1., 1., 1., 1., 1., 1., 1., 1., 1., 1., 1., 1., 1., 1., 1., 1., 1.,\n",
       "       1., 1., 1., 1., 1., 1., 1., 1., 1., 1., 1., 1., 1., 1., 1., 1., 1.,\n",
       "       1., 1., 1., 1., 1., 1., 1., 1., 1., 1., 1., 1., 1., 1., 1., 1., 1.,\n",
       "       1., 1., 1., 1., 1., 1., 1., 1., 1., 1., 1., 1., 1., 1., 1., 1., 1.,\n",
       "       1., 1., 1., 1., 1., 1., 1., 1., 1., 1., 1., 1., 1., 1., 1., 1., 1.,\n",
       "       1., 1., 1., 1., 1., 1., 1., 1., 1., 1., 1., 1., 1., 1., 1., 1., 1.,\n",
       "       1., 1., 1., 1., 1., 1., 1., 1., 1., 1., 1., 1., 1., 1., 1., 1., 1.,\n",
       "       1., 1., 1., 1., 1., 1., 1., 1., 1., 1., 1., 1., 1., 1., 1., 1., 1.,\n",
       "       1., 1., 1., 1., 1., 1., 1., 1., 1., 1., 1., 1., 1., 1., 1., 1., 1.,\n",
       "       1., 1., 1., 1., 1., 1., 1., 1., 1., 1., 1., 1., 1., 1., 1., 1., 1.,\n",
       "       1., 1., 1., 1., 1., 1., 1., 1., 1., 1., 1., 1., 1., 1., 1., 1., 1.,\n",
       "       1., 1., 1., 1., 1., 1., 1., 1., 1., 1., 1., 1., 1., 1., 1., 1., 1.,\n",
       "       1., 1., 1., 1., 1., 1., 1., 1., 1., 1., 1., 1., 1., 1., 1., 1., 1.,\n",
       "       1., 1., 1., 1., 1., 1., 1., 1., 1., 1., 1., 1., 1., 1., 1., 1., 1.,\n",
       "       1., 1., 1., 1., 1., 1., 1., 1., 1., 1., 1., 1., 1., 1., 1., 1., 1.,\n",
       "       1., 1., 1., 1., 1., 1., 1., 1., 1., 1., 1., 1., 1., 1., 1., 1., 1.,\n",
       "       1., 1., 1., 1., 1., 1., 1., 1., 1., 1., 1., 1., 1., 1., 1., 1., 1.,\n",
       "       1., 1., 1., 1., 1., 1., 1., 1., 1., 1., 1., 1., 1., 1., 1., 1., 1.,\n",
       "       1., 1., 1., 1., 1., 1., 1., 1., 1., 1., 1., 1., 1., 1., 1., 1., 1.,\n",
       "       1., 1., 1., 1., 1., 1., 1., 1., 1., 1., 1., 1., 1., 1., 1., 1., 1.,\n",
       "       1., 1., 1., 1., 1., 1., 1., 1., 1., 1., 1., 1., 1., 1., 1., 1., 1.,\n",
       "       1., 1., 1., 1., 1., 1., 1., 1., 1., 1., 1., 1., 1., 1., 1., 1., 1.,\n",
       "       1., 1., 1., 1., 1., 1., 1., 1., 1., 1., 1., 1., 1., 1., 1., 1., 1.,\n",
       "       1., 1., 1., 1., 1., 1., 1., 1., 1., 1., 1., 1., 1., 1., 1., 1., 1.,\n",
       "       1., 1., 1., 1., 1., 1., 1., 1., 1., 1., 1., 1., 1., 1., 1., 1., 1.,\n",
       "       1., 1., 1., 1., 1., 1., 1., 1., 1., 1., 1., 1., 1., 1., 1., 1., 1.,\n",
       "       1., 1., 1., 1., 1., 1., 1., 1., 1., 1., 1., 1., 1., 1., 1., 1., 1.,\n",
       "       1., 1., 1., 1., 1., 1., 1., 1., 1., 1., 1., 1., 1., 1., 1., 1., 1.,\n",
       "       1., 1., 1., 1., 1., 1., 1., 1., 1., 1., 1., 1., 1., 1., 1., 1., 1.,\n",
       "       1., 1., 1., 1., 1., 1., 1., 1., 1., 1., 1., 1., 1., 1., 1., 1., 1.,\n",
       "       1., 1., 1., 1., 1., 1., 1., 1., 1., 1., 1., 1., 1., 1., 1., 1., 1.,\n",
       "       1., 1., 1., 1., 1., 1., 1., 1., 1., 1., 1., 1., 1., 1., 1., 1., 1.,\n",
       "       1., 1., 1., 1., 1., 1., 1., 1., 1., 1., 1., 1., 1., 1., 1., 1., 1.,\n",
       "       1., 1., 1., 1., 1., 1., 1., 1., 1., 1., 1., 1., 1., 1., 1., 1., 1.,\n",
       "       1., 1., 1., 1., 1., 1., 1., 1., 1., 1., 1., 1., 1., 1., 1., 1., 1.,\n",
       "       1., 1., 1., 1., 1., 1., 1., 1., 1., 1., 1., 1., 1., 1., 1., 1., 1.,\n",
       "       1., 1., 1., 1., 1., 1., 1., 1., 1., 1., 1., 1., 1., 1., 1., 1., 1.,\n",
       "       1., 1., 1., 1., 1., 1., 1., 1., 1., 1., 1., 1., 1., 1., 1., 1., 1.,\n",
       "       1., 1., 1., 1., 1., 1., 1., 1., 1., 1., 1., 1., 1., 1.],\n",
       "      dtype=float32)"
      ]
     },
     "execution_count": 15,
     "metadata": {},
     "output_type": "execute_result"
    }
   ],
   "source": [
    "d['SA1_XTD2_XGM/XGM/DOOCS:output'].keys()#['data.intensityTD']"
   ]
  },
  {
   "cell_type": "code",
   "execution_count": 16,
   "id": "3afbd51d-642f-4c7e-ab85-95af2467a266",
   "metadata": {},
   "outputs": [
    {
     "data": {
      "text/plain": [
       "array([1., 1., 1., 1., 1., 1., 1., 1., 1., 1., 1., 1., 1., 1., 1., 1., 1.,\n",
       "       1., 1., 1., 1., 1., 1., 1., 1., 1., 1., 1., 1., 1., 1., 1., 1., 1.,\n",
       "       1., 1., 1., 1., 1., 1., 1., 1., 1., 1., 1., 1., 1., 1., 1., 1., 1.,\n",
       "       1., 1., 1., 1., 1., 1., 1., 1., 1., 1., 1., 1., 1., 1., 1., 1., 1.,\n",
       "       1., 1., 1., 1., 1., 1., 1., 1., 1., 1., 1., 1., 1., 1., 1., 1., 1.,\n",
       "       1., 1., 1., 1., 1., 1., 1., 1., 1., 1., 1., 1., 1., 1., 1., 1., 1.,\n",
       "       1., 1., 1., 1., 1., 1., 1., 1., 1., 1., 1., 1., 1., 1., 1., 1., 1.,\n",
       "       1., 1., 1., 1., 1., 1., 1., 1., 1., 1., 1., 1., 1., 1., 1., 1., 1.,\n",
       "       1., 1., 1., 1., 1., 1., 1., 1., 1., 1., 1., 1., 1., 1., 1., 1., 1.,\n",
       "       1., 1., 1., 1., 1., 1., 1., 1., 1., 1., 1., 1., 1., 1., 1., 1., 1.,\n",
       "       1., 1., 1., 1., 1., 1., 1., 1., 1., 1., 1., 1., 1., 1., 1., 1., 1.,\n",
       "       1., 1., 1., 1., 1., 1., 1., 1., 1., 1., 1., 1., 1., 1., 1., 1., 1.,\n",
       "       1., 1., 1., 1., 1., 1., 1., 1., 1., 1., 1., 1., 1., 1., 1., 1., 1.,\n",
       "       1., 1., 1., 1., 1., 1., 1., 1., 1., 1., 1., 1., 1., 1., 1., 1., 1.,\n",
       "       1., 1., 1., 1., 1., 1., 1., 1., 1., 1., 1., 1., 1., 1., 1., 1., 1.,\n",
       "       1., 1., 1., 1., 1., 1., 1., 1., 1., 1., 1., 1., 1., 1., 1., 1., 1.,\n",
       "       1., 1., 1., 1., 1., 1., 1., 1., 1., 1., 1., 1., 1., 1., 1., 1., 1.,\n",
       "       1., 1., 1., 1., 1., 1., 1., 1., 1., 1., 1., 1., 1., 1., 1., 1., 1.,\n",
       "       1., 1., 1., 1., 1., 1., 1., 1., 1., 1., 1., 1., 1., 1., 1., 1., 1.,\n",
       "       1., 1., 1., 1., 1., 1., 1., 1., 1., 1., 1., 1., 1., 1., 1., 1., 1.,\n",
       "       1., 1., 1., 1., 1., 1., 1., 1., 1., 1., 1., 1., 1., 1., 1., 1., 1.,\n",
       "       1., 1., 1., 1., 1., 1., 1., 1., 1., 1., 1., 1., 1., 1., 1., 1., 1.,\n",
       "       1., 1., 1., 1., 1., 1., 1., 1., 1., 1., 1., 1., 1., 1., 1., 1., 1.,\n",
       "       1., 1., 1., 1., 1., 1., 1., 1., 1., 1., 1., 1., 1., 1., 1., 1., 1.,\n",
       "       1., 1., 1., 1., 1., 1., 1., 1., 1., 1., 1., 1., 1., 1., 1., 1., 1.,\n",
       "       1., 1., 1., 1., 1., 1., 1., 1., 1., 1., 1., 1., 1., 1., 1., 1., 1.,\n",
       "       1., 1., 1., 1., 1., 1., 1., 1., 1., 1., 1., 1., 1., 1., 1., 1., 1.,\n",
       "       1., 1., 1., 1., 1., 1., 1., 1., 1., 1., 1., 1., 1., 1., 1., 1., 1.,\n",
       "       1., 1., 1., 1., 1., 1., 1., 1., 1., 1., 1., 1., 1., 1., 1., 1., 1.,\n",
       "       1., 1., 1., 1., 1., 1., 1., 1., 1., 1., 1., 1., 1., 1., 1., 1., 1.,\n",
       "       1., 1., 1., 1., 1., 1., 1., 1., 1., 1., 1., 1., 1., 1., 1., 1., 1.,\n",
       "       1., 1., 1., 1., 1., 1., 1., 1., 1., 1., 1., 1., 1., 1., 1., 1., 1.,\n",
       "       1., 1., 1., 1., 1., 1., 1., 1., 1., 1., 1., 1., 1., 1., 1., 1., 1.,\n",
       "       1., 1., 1., 1., 1., 1., 1., 1., 1., 1., 1., 1., 1., 1., 1., 1., 1.,\n",
       "       1., 1., 1., 1., 1., 1., 1., 1., 1., 1., 1., 1., 1., 1., 1., 1., 1.,\n",
       "       1., 1., 1., 1., 1., 1., 1., 1., 1., 1., 1., 1., 1., 1., 1., 1., 1.,\n",
       "       1., 1., 1., 1., 1., 1., 1., 1., 1., 1., 1., 1., 1., 1., 1., 1., 1.,\n",
       "       1., 1., 1., 1., 1., 1., 1., 1., 1., 1., 1., 1., 1., 1., 1., 1., 1.,\n",
       "       1., 1., 1., 1., 1., 1., 1., 1., 1., 1., 1., 1., 1., 1., 1., 1., 1.,\n",
       "       1., 1., 1., 1., 1., 1., 1., 1., 1., 1., 1., 1., 1., 1., 1., 1., 1.,\n",
       "       1., 1., 1., 1., 1., 1., 1., 1., 1., 1., 1., 1., 1., 1., 1., 1., 1.,\n",
       "       1., 1., 1., 1., 1., 1., 1., 1., 1., 1., 1., 1., 1., 1., 1., 1., 1.,\n",
       "       1., 1., 1., 1., 1., 1., 1., 1., 1., 1., 1., 1., 1., 1., 1., 1., 1.,\n",
       "       1., 1., 1., 1., 1., 1., 1., 1., 1., 1., 1., 1., 1., 1., 1., 1., 1.,\n",
       "       1., 1., 1., 1., 1., 1., 1., 1., 1., 1., 1., 1., 1., 1., 1., 1., 1.,\n",
       "       1., 1., 1., 1., 1., 1., 1., 1., 1., 1., 1., 1., 1., 1., 1., 1., 1.,\n",
       "       1., 1., 1., 1., 1., 1., 1., 1., 1., 1., 1., 1., 1., 1., 1., 1., 1.,\n",
       "       1., 1., 1., 1., 1., 1., 1., 1., 1., 1., 1., 1., 1., 1., 1., 1., 1.,\n",
       "       1., 1., 1., 1., 1., 1., 1., 1., 1., 1., 1., 1., 1., 1., 1., 1., 1.,\n",
       "       1., 1., 1., 1., 1., 1., 1., 1., 1., 1., 1., 1., 1., 1., 1., 1., 1.,\n",
       "       1., 1., 1., 1., 1., 1., 1., 1., 1., 1., 1., 1., 1., 1., 1., 1., 1.,\n",
       "       1., 1., 1., 1., 1., 1., 1., 1., 1., 1., 1., 1., 1., 1., 1., 1., 1.,\n",
       "       1., 1., 1., 1., 1., 1., 1., 1., 1., 1., 1., 1., 1., 1., 1., 1., 1.,\n",
       "       1., 1., 1., 1., 1., 1., 1., 1., 1., 1., 1., 1., 1., 1., 1., 1., 1.,\n",
       "       1., 1., 1., 1., 1., 1., 1., 1., 1., 1., 1., 1., 1., 1., 1., 1., 1.,\n",
       "       1., 1., 1., 1., 1., 1., 1., 1., 1., 1., 1., 1., 1., 1., 1., 1., 1.,\n",
       "       1., 1., 1., 1., 1., 1., 1., 1., 1., 1., 1., 1., 1., 1., 1., 1., 1.,\n",
       "       1., 1., 1., 1., 1., 1., 1., 1., 1., 1., 1., 1., 1., 1., 1., 1., 1.,\n",
       "       1., 1., 1., 1., 1., 1., 1., 1., 1., 1., 1., 1., 1., 1.],\n",
       "      dtype=float32)"
      ]
     },
     "execution_count": 16,
     "metadata": {},
     "output_type": "execute_result"
    }
   ],
   "source": [
    "d['SPB_XTD9_XGM/XGM/DOOCS:output'].keys()#['data.intensityTD']"
   ]
  },
  {
   "cell_type": "markdown",
   "id": "020d0830-b940-4004-950a-b1abbbd1d3ba",
   "metadata": {},
   "source": [
    "# Attenuation"
   ]
  },
  {
   "cell_type": "code",
   "execution_count": 17,
   "id": "0d2bc110-a3fa-4d42-baba-13dbeac23967",
   "metadata": {},
   "outputs": [
    {
     "data": {
      "text/plain": [
       "9000.0"
      ]
     },
     "execution_count": 17,
     "metadata": {},
     "output_type": "execute_result"
    }
   ],
   "source": [
    "d['SPB_XTD9_ATT/MDL/MAIN'].keys()#['actualEnergy.value']"
   ]
  },
  {
   "cell_type": "markdown",
   "id": "7672de82-ad34-4704-b50c-08a069968e78",
   "metadata": {},
   "source": [
    "# Undulator"
   ]
  },
  {
   "cell_type": "code",
   "execution_count": 18,
   "id": "f5996453-962e-4330-94eb-7c7c78b44615",
   "metadata": {},
   "outputs": [
    {
     "data": {
      "text/plain": [
       "9.0"
      ]
     },
     "execution_count": 18,
     "metadata": {},
     "output_type": "execute_result"
    }
   ],
   "source": [
    "d['SPB_XTD2_UND/DOOCS/ENERGY'].keys()#['actualPosition.value']"
   ]
  },
  {
   "cell_type": "markdown",
   "id": "5d57b2e7-044f-49de-bf52-f155bdd27f12",
   "metadata": {},
   "source": [
    "# Z-positions"
   ]
  },
  {
   "cell_type": "code",
   "execution_count": 24,
   "id": "56642030-0fcf-43e0-aeff-b8f949538409",
   "metadata": {},
   "outputs": [
    {
     "data": {
      "text/plain": [
       "209.49923470760405"
      ]
     },
     "execution_count": 24,
     "metadata": {},
     "output_type": "execute_result"
    }
   ],
   "source": [
    "d['SPB_IRU_AGIPD1M/MOTOR/Z_STEPPER'].keys()#['encoderPosition.value']"
   ]
  },
  {
   "cell_type": "code",
   "execution_count": 25,
   "id": "a69fc911-cbe2-408a-80b4-4976d8a9f204",
   "metadata": {},
   "outputs": [
    {
     "data": {
      "text/plain": [
       "-0.21752372016590016"
      ]
     },
     "execution_count": 25,
     "metadata": {},
     "output_type": "execute_result"
    }
   ],
   "source": [
    "d['SPB_IRU_INJMOV/MOTOR/Z'].keys()#['encoderPosition.value']"
   ]
  },
  {
   "cell_type": "markdown",
   "id": "0273d408-4c51-4c97-886c-f734e0104945",
   "metadata": {},
   "source": [
    "# HIREX"
   ]
  },
  {
   "cell_type": "code",
   "execution_count": 21,
   "id": "9fb6a5bc-d512-4b28-b4d3-af4da83c66f7",
   "metadata": {},
   "outputs": [],
   "source": [
    "spec = d['SA1_XTD9_HIREX/CORR/GOTTHARD_RECEIVER:daqOutput'].keys()#['data.adc']"
   ]
  },
  {
   "cell_type": "code",
   "execution_count": 22,
   "id": "f0771d32-b19b-4ac5-a6d0-0da41a1ea3ee",
   "metadata": {},
   "outputs": [
    {
     "data": {
      "text/plain": [
       "(750, 2560)"
      ]
     },
     "execution_count": 22,
     "metadata": {},
     "output_type": "execute_result"
    }
   ],
   "source": [
    "spec.shape"
   ]
  },
  {
   "cell_type": "code",
   "execution_count": 23,
   "id": "28f9ea54-a085-4e4a-80e7-0866337c4d9f",
   "metadata": {},
   "outputs": [
    {
     "data": {
      "text/plain": [
       "<matplotlib.image.AxesImage at 0x147437764790>"
      ]
     },
     "execution_count": 23,
     "metadata": {},
     "output_type": "execute_result"
    },
    {
     "data": {
      "application/vnd.jupyter.widget-view+json": {
       "model_id": "9500932a70df43af83a560d77ad51fdf",
       "version_major": 2,
       "version_minor": 0
      },
      "image/png": "[encoded data removed]",
      "text/html": [
       "\n",
       "            <div style=\"display: inline-block;\">\n",
       "                <div class=\"jupyter-widgets widget-label\" style=\"text-align: center;\">\n",
       "                    Figure\n",
       "                </div>\n",
       "                <img src='data:image/png;base64,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' width=640.0/>\n",
       "            </div>\n",
       "        "
      ],
      "text/plain": [
       "Canvas(toolbar=Toolbar(toolitems=[('Home', 'Reset original view', 'home', 'home'), ('Back', 'Back to previous …"
      ]
     },
     "metadata": {},
     "output_type": "display_data"
    }
   ],
   "source": [
    "plt.imshow(spec)"
   ]
  },
  {
   "cell_type": "code",
   "execution_count": null,
   "id": "62ad5d1e-c1d1-4e7c-9c08-73153aa209cd",
   "metadata": {},
   "outputs": [],
   "source": []
  }
 ],
 "metadata": {
  "kernelspec": {
   "display_name": "xfel (current)",
   "language": "python",
   "name": "xfel-current"
  },
  "language_info": {
   "codemirror_mode": {
    "name": "ipython",
    "version": 3
   },
   "file_extension": ".py",
   "mimetype": "text/x-python",
   "name": "python",
   "nbconvert_exporter": "python",
   "pygments_lexer": "ipython3",
   "version": "3.11.6"
  }
 },
 "nbformat": 4,
 "nbformat_minor": 5
}
