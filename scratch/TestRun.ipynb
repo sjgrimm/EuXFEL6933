{
 "cells": [
  {
   "cell_type": "code",
   "execution_count": null,
   "id": "10e66128-e3b3-45da-a417-e7049636a1a6",
   "metadata": {},
   "outputs": [],
   "source": [
    "import sys\n",
    "sys.path.append('/gpfs/exfel/exp/SPB/202501/p006933/usr/Software/analysistools')\n",
    "import data_helper as dh\n",
    "#import focus_scan as fs\n",
    "sys.path.append('/gpfs/exfel/exp/SPB/202501/p006933/usr/Software/generatorpipeline')\n",
    "import generatorpipeline.accumulators as acc\n",
    "\n",
    "import extra_data as ex\n",
    "import matplotlib.pyplot as plt\n",
    "import numpy as np\n",
    "from tqdm import tqdm\n",
    "\n",
    "%matplotlib widget"
   ]
  },
  {
   "cell_type": "code",
   "execution_count": null,
   "id": "0a595cef-2754-4549-a441-52e27c20afd0",
   "metadata": {},
   "outputs": [],
   "source": [
    "#ds = ex.open_run(dh.proposal, 35)\n",
    "#ds.all_sources"
   ]
  },
  {
   "cell_type": "code",
   "execution_count": null,
   "id": "ba89305c-c312-453c-a82d-c9d45b93c4e1",
   "metadata": {},
   "outputs": [],
   "source": [
    "def train_source(run, verbose=False):\n",
    "    '''\n",
    "    Parameter\n",
    "    ---------\n",
    "    run : int\n",
    "        The run number.\n",
    "    fast : bool, optional\n",
    "        If True the train data doesn't contain agipd data.\n",
    "        Default is False.\n",
    "    verbose : bool, optional\n",
    "        Wheather to print debug information (True) or not (default: False).\n",
    "        \n",
    "    Yields\n",
    "    ------\n",
    "    The trainId as int and the corresponding data of the train as dict\n",
    "    '''\n",
    "    ds = dh.data_source(run)\n",
    "    if verbose:    \n",
    "        ds.info()\n",
    "        ds.all_sources\n",
    "\n",
    "    elements = []\n",
    "    for key in dh.det.keys():\n",
    "        try:\n",
    "            ds.select(dh.det[key])\n",
    "            elements.append(dh.det[key])\n",
    "        except: \n",
    "            print(f\"{key} not detected\")\n",
    "    sel = ds.select(elements)\n",
    "    \n",
    "    for t_id, t_data in sel.trains(require_all=True):\n",
    "        yield t_id, t_data"
   ]
  },
  {
   "cell_type": "code",
   "execution_count": null,
   "id": "857a7f43-9f8e-4f4e-ace3-bd04c62b5ca7",
   "metadata": {},
   "outputs": [],
   "source": [
    "data = train_source(1, verbose=True)"
   ]
  },
  {
   "cell_type": "code",
   "execution_count": null,
   "id": "5d0ea548-f92f-4115-b62c-d2d466537d4f",
   "metadata": {},
   "outputs": [],
   "source": [
    "t, d = next(data)"
   ]
  },
  {
   "cell_type": "code",
   "execution_count": null,
   "id": "adacdc01-6abe-4f70-8e82-20c676aa32f2",
   "metadata": {},
   "outputs": [],
   "source": [
    "t"
   ]
  },
  {
   "cell_type": "code",
   "execution_count": null,
   "id": "78c9492c-d1ce-4552-baca-e977ed859e3e",
   "metadata": {},
   "outputs": [],
   "source": [
    "sorted(d.keys())"
   ]
  },
  {
   "cell_type": "code",
   "execution_count": null,
   "id": "3a164dd4-df70-4697-96fb-a4665b96b0e3",
   "metadata": {},
   "outputs": [],
   "source": [
    "len(d[dh.det['xgm9']]['data.intensitySa1TD'])#"
   ]
  },
  {
   "cell_type": "code",
   "execution_count": null,
   "id": "21364bb8-1a64-442c-b037-34f30f87cfe3",
   "metadata": {},
   "outputs": [],
   "source": [
    "m = ds[dh.det['frames'], 'data.nPulsePerFrame'].ndarray() > 0\n",
    "pe = ds[dh.det['frames'], 'data.energyPerFrame'].ndarray()#[m]\n",
    "len(pe), len(m)"
   ]
  },
  {
   "cell_type": "code",
   "execution_count": null,
   "id": "47ff8f51-15f4-49d3-a779-1a4465c7ce94",
   "metadata": {},
   "outputs": [],
   "source": [
    "ds = ex.open_run(dh.proposal, 35)\n",
    "arr = ds[dh.det['xgm9'], 'data.intensitySa1TD'].ndarray()#\n",
    "len(arr)"
   ]
  },
  {
   "cell_type": "code",
   "execution_count": null,
   "id": "d38fdf36-e922-428c-bdd8-bc226a3615ff",
   "metadata": {},
   "outputs": [],
   "source": [
    "d[dh.det['frames'], 'data.intensitySa1TD'].ndarray()"
   ]
  },
  {
   "cell_type": "markdown",
   "id": "8b90cbcd-0f1c-4d9f-8a17-146c3e29576f",
   "metadata": {},
   "source": [
    "# Test"
   ]
  },
  {
   "cell_type": "code",
   "execution_count": null,
   "id": "dab2641d-45ca-4db7-a13d-b2d27d171345",
   "metadata": {},
   "outputs": [],
   "source": [
    "d[dh.det['hitfinder']]#['data.image.pixels'])"
   ]
  },
  {
   "cell_type": "markdown",
   "id": "974ff6b3-4d08-4127-b0b5-6d3b7826a378",
   "metadata": {},
   "source": [
    "# AGIPD"
   ]
  },
  {
   "cell_type": "code",
   "execution_count": null,
   "id": "7f2809f2-47bb-409f-adad-7eb18e8f288b",
   "metadata": {},
   "outputs": [],
   "source": [
    "img0 = d['SPB_DET_AGIPD1M-1/CORR/0CH0:output']#['data.adc']\n",
    "img0"
   ]
  },
  {
   "cell_type": "code",
   "execution_count": null,
   "id": "a20c04ba-95b4-46ea-866a-05f535f25b23",
   "metadata": {},
   "outputs": [],
   "source": [
    "t = img0['image.data']"
   ]
  },
  {
   "cell_type": "code",
   "execution_count": null,
   "id": "f0c6b9f1-d80a-47c7-a06f-63cdfedd6c9f",
   "metadata": {},
   "outputs": [],
   "source": [
    "t.shape"
   ]
  },
  {
   "cell_type": "markdown",
   "id": "455e9d38-6bd9-4a14-b988-b7f521fb056c",
   "metadata": {},
   "source": [
    "# XGM"
   ]
  },
  {
   "cell_type": "code",
   "execution_count": null,
   "id": "84764652-8a21-4f8a-a025-dc841113533a",
   "metadata": {},
   "outputs": [],
   "source": [
    "xgm9 = d[dh.det['xgm9']]#['data.intensityTD']\n",
    "print(sorted(xgm9.keys()))\n",
    "xgm9['metadata']"
   ]
  },
  {
   "cell_type": "code",
   "execution_count": null,
   "id": "cf76d23d-bb42-4919-aab8-6e10f69c66e8",
   "metadata": {},
   "outputs": [],
   "source": [
    "xgm2 = d['SA1_XTD2_XGM/XGM/DOOCS:output']#['data.intensityTD']\n",
    "print(sorted(xgm2.keys()))\n",
    "xgm2['metadata']"
   ]
  },
  {
   "cell_type": "code",
   "execution_count": null,
   "id": "3afbd51d-642f-4c7e-ab85-95af2467a266",
   "metadata": {},
   "outputs": [],
   "source": [
    "d['SPB_XTD9_XGM/XGM/DOOCS:output']['data.intensitySa1TD']"
   ]
  },
  {
   "cell_type": "markdown",
   "id": "020d0830-b940-4004-950a-b1abbbd1d3ba",
   "metadata": {},
   "source": [
    "# Attenuation"
   ]
  },
  {
   "cell_type": "code",
   "execution_count": null,
   "id": "0d2bc110-a3fa-4d42-baba-13dbeac23967",
   "metadata": {},
   "outputs": [],
   "source": [
    "d['SPB_XTD9_ATT/MDL/MAIN']['actual.transmission.value']"
   ]
  },
  {
   "cell_type": "markdown",
   "id": "7672de82-ad34-4704-b50c-08a069968e78",
   "metadata": {},
   "source": [
    "# Undulator"
   ]
  },
  {
   "cell_type": "code",
   "execution_count": null,
   "id": "f5996453-962e-4330-94eb-7c7c78b44615",
   "metadata": {},
   "outputs": [],
   "source": [
    "d['SPB_XTD2_UND/DOOCS/ENERGY']#['actualPosition.value']"
   ]
  },
  {
   "cell_type": "markdown",
   "id": "5d57b2e7-044f-49de-bf52-f155bdd27f12",
   "metadata": {},
   "source": [
    "# Z-positions"
   ]
  },
  {
   "cell_type": "code",
   "execution_count": null,
   "id": "56642030-0fcf-43e0-aeff-b8f949538409",
   "metadata": {},
   "outputs": [],
   "source": [
    "d['SPB_IRU_AGIPD1M/MOTOR/Z_STEPPER']['encoderPosition.value']"
   ]
  },
  {
   "cell_type": "code",
   "execution_count": null,
   "id": "a69fc911-cbe2-408a-80b4-4976d8a9f204",
   "metadata": {},
   "outputs": [],
   "source": [
    "d['SPB_IRU_INJMOV/MOTOR/Z']['encoderPosition.value']"
   ]
  },
  {
   "cell_type": "markdown",
   "id": "0273d408-4c51-4c97-886c-f734e0104945",
   "metadata": {},
   "source": [
    "# HIREX"
   ]
  },
  {
   "cell_type": "code",
   "execution_count": null,
   "id": "9fb6a5bc-d512-4b28-b4d3-af4da83c66f7",
   "metadata": {},
   "outputs": [],
   "source": [
    "spec = d['SA1_XTD9_HIREX/CORR/GOTTHARD_RECEIVER:daqOutput']['data.adc']"
   ]
  },
  {
   "cell_type": "code",
   "execution_count": null,
   "id": "f0771d32-b19b-4ac5-a6d0-0da41a1ea3ee",
   "metadata": {},
   "outputs": [],
   "source": [
    "spec.shape"
   ]
  },
  {
   "cell_type": "code",
   "execution_count": null,
   "id": "28f9ea54-a085-4e4a-80e7-0866337c4d9f",
   "metadata": {},
   "outputs": [],
   "source": [
    "plt.imshow(spec)"
   ]
  },
  {
   "cell_type": "code",
   "execution_count": null,
   "id": "62ad5d1e-c1d1-4e7c-9c08-73153aa209cd",
   "metadata": {},
   "outputs": [],
   "source": []
  }
 ],
 "metadata": {
  "kernelspec": {
   "display_name": "xfel (current)",
   "language": "python",
   "name": "xfel-current"
  },
  "language_info": {
   "codemirror_mode": {
    "name": "ipython",
    "version": 3
   },
   "file_extension": ".py",
   "mimetype": "text/x-python",
   "name": "python",
   "nbconvert_exporter": "python",
   "pygments_lexer": "ipython3",
   "version": "3.11.6"
  }
 },
 "nbformat": 4,
 "nbformat_minor": 5
}
