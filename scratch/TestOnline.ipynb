{
 "cells": [
  {
   "cell_type": "code",
   "execution_count": 1,
   "id": "4284bd42-5189-4e91-b1d0-9634521e5e3e",
   "metadata": {},
   "outputs": [],
   "source": [
    "import data_helper_online as dho"
   ]
  },
  {
   "cell_type": "code",
   "execution_count": null,
   "id": "d3097bb6-ee6c-47d5-afba-ebd24cfc429f",
   "metadata": {},
   "outputs": [],
   "source": [
    "trains = dho.serve_trains('tcp://max-exfl501.desy.de:1234', sock='REQ')\n",
    "trains2 = dho.serve_trains('tcp://exflong105-ib:55555', sock='REQ')"
   ]
  },
  {
   "cell_type": "code",
   "execution_count": null,
   "id": "0b3df3e3-1506-4366-9d28-7e9709df8d2c",
   "metadata": {},
   "outputs": [],
   "source": [
    "train = next(trains)\n",
    "data = train['data']\n",
    "print('Done')\n"
   ]
  },
  {
   "cell_type": "code",
   "execution_count": 4,
   "id": "433c20bf-4ad1-46b0-a56d-40372419314e",
   "metadata": {},
   "outputs": [
    {
     "data": {
      "text/plain": [
       "dict_keys(['image.passport', 'sources', 'modulesPresent', 'image.data', 'image.cellId', 'image.gain', 'image.pulseId', 'image.trainId'])"
      ]
     },
     "execution_count": 4,
     "metadata": {},
     "output_type": "execute_result"
    }
   ],
   "source": [
    "data['SPB_DET_AGIPD1M-1/CAL/APPEND_CORRECTED'].keys()\n"
   ]
  },
  {
   "cell_type": "code",
   "execution_count": 5,
   "id": "b3db5fd7-6f9b-41e1-9464-e684abae2db1",
   "metadata": {},
   "outputs": [],
   "source": [
    "import numpy as np\n",
    "from generatorpipeline.generatorpipeline import accumulators\n",
    "from generatorpipeline.generatorpipeline import generatorpipeline as gp\n",
    "@gp.pipeline()\n",
    "def maximum_img(data):\n",
    "    max_img=accumulators.Maximum()\n",
    "    agipd_data=data['SPB_DET_AGIPD1M-1/CAL/APPEND_CORRECTED']\n",
    "    \n",
    "    img_data=agipd_data['image.data']\n",
    "    print(np.shape(img_data))\n",
    "    for i in range(len(agipd_data['image.pulseId'])):\n",
    "        max_img.accumulate(img_data[:,:,:,i])\n",
    "    \n",
    "            \n",
    "    return max_img\n",
    "\n",
    "def find_hitrate(data):\n",
    "    hitrate_data=data[dh.det['hitfinder']]\n",
    "    hitrate=np.sum(hitrate_data['data.hitFlag'])/len(hitrate_data['data.hitFlag'])\n",
    "    return hitrate\n",
    "\n",
    "#no good| the correct keys are missing\n",
    "# def mean_litpixel(data):\n",
    "#     hitrate_data=data[dh.det[]]\n",
    "#     hitrate_train=np.mean(hitrate_data[])\n",
    "#     return hitrate_train\n",
    "\n",
    "#max_img=maximum_img(data)\n"
   ]
  },
  {
   "cell_type": "code",
   "execution_count": 2,
   "id": "d59931b4-00fb-4ba2-85ae-b32e5d15e8a2",
   "metadata": {},
   "outputs": [],
   "source": [
    "import karabo_bridge as kb\n",
    "import karabo_bridge_recorder as kbr\n",
    "import karabo_proxy as kp"
   ]
  },
  {
   "cell_type": "code",
   "execution_count": 3,
   "id": "101c89bb-85b7-4aca-bef8-4182c0a9e433",
   "metadata": {},
   "outputs": [],
   "source": [
    "import data_helper as dh\n",
    "\n",
    "trains_dh=dh.train_source(run=1)"
   ]
  },
  {
   "cell_type": "code",
   "execution_count": 6,
   "id": "d5abed55-5f7c-478e-a054-bb8e6adb8280",
   "metadata": {},
   "outputs": [
    {
     "data": {
      "text/plain": [
       "0.0"
      ]
     },
     "execution_count": 6,
     "metadata": {},
     "output_type": "execute_result"
    }
   ],
   "source": [
    "data_dh=next(trains_dh)[1]\n",
    "#data_dh['SPB_DET_AGIPD1M-1/CAL/APPEND_CORRECTED']={'image.data':dh.stack_agipd_dict(data_dh), }\n",
    "#maximum_img(data_dh)\n",
    "find_hitrate(data_dh)\n"
   ]
  },
  {
   "cell_type": "code",
   "execution_count": 7,
   "id": "c1a005aa-b145-433c-8c32-36c5a5461964",
   "metadata": {},
   "outputs": [
    {
     "data": {
      "text/plain": [
       "dict_keys(['metadata', 'data.trainId', 'threshold.sig', 'data.pulseId', 'data.hitFlag', 'data.missFlag', 'threshold.mu', 'threshold.value', 'data.hitscore', 'data.dataFlag'])"
      ]
     },
     "execution_count": 7,
     "metadata": {},
     "output_type": "execute_result"
    }
   ],
   "source": [
    "data_dh[dh.det['hitfinder']].keys()"
   ]
  },
  {
   "cell_type": "code",
   "execution_count": 13,
   "id": "ed667c1d-5801-445a-b48d-408477c75de7",
   "metadata": {},
   "outputs": [
    {
     "name": "stdout",
     "output_type": "stream",
     "text": [
      "[0.0]\n",
      "[0.0, 0.0]\n",
      "[0.0, 0.0, 0.0]\n",
      "[0.0, 0.0, 0.0, 0.0]\n",
      "[0.0, 0.0, 0.0, 0.0, 0.0]\n",
      "[0.0, 0.0, 0.0, 0.0, 0.0, 0.0]\n",
      "[0.0, 0.0, 0.0, 0.0, 0.0, 0.0, 0.0]\n",
      "[0.0, 0.0, 0.0, 0.0, 0.0, 0.0, 0.0, 0.0]\n",
      "[0.0, 0.0, 0.0, 0.0, 0.0, 0.0, 0.0, 0.0, 0.0]\n",
      "[0.0, 0.0, 0.0, 0.0, 0.0, 0.0, 0.0, 0.0, 0.0, 0.0]\n",
      "[0.0, 0.0, 0.0, 0.0, 0.0, 0.0, 0.0, 0.0, 0.0, 0.0, 0.0]\n",
      "[0.0, 0.0, 0.0, 0.0, 0.0, 0.0, 0.0, 0.0, 0.0, 0.0, 0.0, 0.0]\n",
      "[0.0, 0.0, 0.0, 0.0, 0.0, 0.0, 0.0, 0.0, 0.0, 0.0, 0.0, 0.0, 0.0]\n",
      "[0.0, 0.0, 0.0, 0.0, 0.0, 0.0, 0.0, 0.0, 0.0, 0.0, 0.0, 0.0, 0.0, 0.0]\n",
      "[0.0, 0.0, 0.0, 0.0, 0.0, 0.0, 0.0, 0.0, 0.0, 0.0, 0.0, 0.0, 0.0, 0.0, 0.0]\n",
      "[0.0, 0.0, 0.0, 0.0, 0.0, 0.0, 0.0, 0.0, 0.0, 0.0, 0.0, 0.0, 0.0, 0.0, 0.0, 0.0]\n",
      "[0.0, 0.0, 0.0, 0.0, 0.0, 0.0, 0.0, 0.0, 0.0, 0.0, 0.0, 0.0, 0.0, 0.0, 0.0, 0.0, 0.0]\n",
      "[0.0, 0.0, 0.0, 0.0, 0.0, 0.0, 0.0, 0.0, 0.0, 0.0, 0.0, 0.0, 0.0, 0.0, 0.0, 0.0, 0.0, 0.0]\n",
      "[0.0, 0.0, 0.0, 0.0, 0.0, 0.0, 0.0, 0.0, 0.0, 0.0, 0.0, 0.0, 0.0, 0.0, 0.0, 0.0, 0.0, 0.0, 0.0]\n",
      "[0.0, 0.0, 0.0, 0.0, 0.0, 0.0, 0.0, 0.0, 0.0, 0.0, 0.0, 0.0, 0.0, 0.0, 0.0, 0.0, 0.0, 0.0, 0.0, 0.0]\n"
     ]
    }
   ],
   "source": [
    "import time\n",
    "i=0\n",
    "start_time = time.time()\n",
    "hitrates=[]\n",
    "#train_client=dho.serve_trains('tcp://max-exfl501.desy.de:1234', sock='REQ')\n",
    "train_client=dh.train_source(run=1)\n",
    "while i<10:\n",
    "    data=next(train_client)[1]\n",
    "    hitrates.append(find_hitrate(data))\n",
    "    current_time = time.time()\n",
    "    if current_time - start_time >= 1:\n",
    "        start_time = current_time\n",
    "        print(hitrates)\n",
    "    i+=1"
   ]
  },
  {
   "cell_type": "code",
   "execution_count": 12,
   "id": "90791a34-39a2-4671-83ed-011d4db89259",
   "metadata": {},
   "outputs": [
    {
     "data": {
      "text/plain": [
       "[0.0, 0.0]"
      ]
     },
     "execution_count": 12,
     "metadata": {},
     "output_type": "execute_result"
    }
   ],
   "source": [
    "hitrates"
   ]
  },
  {
   "cell_type": "code",
   "execution_count": 11,
   "id": "cff2afc5-e31b-4717-9deb-4238dd6f823e",
   "metadata": {},
   "outputs": [
    {
     "data": {
      "text/plain": [
       "10"
      ]
     },
     "execution_count": 11,
     "metadata": {},
     "output_type": "execute_result"
    }
   ],
   "source": [
    "i"
   ]
  },
  {
   "cell_type": "code",
   "execution_count": null,
   "id": "04579717-c9b9-4607-8796-69647c41bb2a",
   "metadata": {},
   "outputs": [],
   "source": [
    "start_time = time.time()\n",
    "\n",
    "while True:\n",
    "    result = calc()\n",
    "    current_time = time.time()\n",
    "    if current_time - start_time >= 5:\n",
    "        broadcast(result)\n",
    "        start_time = current_time"
   ]
  }
 ],
 "metadata": {
  "kernelspec": {
   "display_name": "xfel (current)",
   "language": "python",
   "name": "xfel-current"
  },
  "language_info": {
   "codemirror_mode": {
    "name": "ipython",
    "version": 3
   },
   "file_extension": ".py",
   "mimetype": "text/x-python",
   "name": "python",
   "nbconvert_exporter": "python",
   "pygments_lexer": "ipython3",
   "version": "3.11.6"
  },
  "widgets": {
   "application/vnd.jupyter.widget-state+json": {
    "state": {},
    "version_major": 2,
    "version_minor": 0
   }
  }
 },
 "nbformat": 4,
 "nbformat_minor": 5
}
