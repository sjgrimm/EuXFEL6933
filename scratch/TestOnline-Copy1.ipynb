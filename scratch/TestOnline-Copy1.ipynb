{
 "cells": [
  {
   "cell_type": "code",
   "execution_count": 1,
   "id": "4284bd42-5189-4e91-b1d0-9634521e5e3e",
   "metadata": {},
   "outputs": [],
   "source": [
    "import data_helper_online as dho"
   ]
  },
  {
   "cell_type": "code",
   "execution_count": 2,
   "id": "d3097bb6-ee6c-47d5-afba-ebd24cfc429f",
   "metadata": {},
   "outputs": [],
   "source": [
    "trains = dho.serve_trains('tcp://max-exfl319.desy.de:1234', sock='SUB')\n",
    "trains2 = dho.serve_trains('tcp://max-exfl319.desy.de:1234', sock='SUB')"
   ]
  },
  {
   "cell_type": "code",
   "execution_count": null,
   "id": "0b3df3e3-1506-4366-9d28-7e9709df8d2c",
   "metadata": {},
   "outputs": [],
   "source": [
    "data = next(trains)\n",
    "print('Done')\n",
    "data2 = next(trains2)\n",
    "print('Done')"
   ]
  },
  {
   "cell_type": "code",
   "execution_count": null,
   "id": "433c20bf-4ad1-46b0-a56d-40372419314e",
   "metadata": {},
   "outputs": [],
   "source": [
    "data['data']['SPB_DET_AGIPD1M-1/CAL/APPEND_CORRECTED']['image.trainId']==data2['data']['SPB_DET_AGIPD1M-1/CAL/APPEND_CORRECTED']['image.trainId']"
   ]
  },
  {
   "cell_type": "code",
   "execution_count": null,
   "id": "b3db5fd7-6f9b-41e1-9464-e684abae2db1",
   "metadata": {},
   "outputs": [],
   "source": [
    "data['data']['SPB_DET_AGIPD1M-1/CAL/APPEND_CORRECTED']"
   ]
  },
  {
   "cell_type": "code",
   "execution_count": null,
   "id": "d59931b4-00fb-4ba2-85ae-b32e5d15e8a2",
   "metadata": {},
   "outputs": [],
   "source": [
    "[]"
   ]
  }
 ],
 "metadata": {
  "kernelspec": {
   "display_name": "xfel (current)",
   "language": "python",
   "name": "xfel-current"
  },
  "language_info": {
   "codemirror_mode": {
    "name": "ipython",
    "version": 3
   },
   "file_extension": ".py",
   "mimetype": "text/x-python",
   "name": "python",
   "nbconvert_exporter": "python",
   "pygments_lexer": "ipython3",
   "version": "3.11.6"
  },
  "widgets": {
   "application/vnd.jupyter.widget-state+json": {
    "state": {},
    "version_major": 2,
    "version_minor": 0
   }
  }
 },
 "nbformat": 4,
 "nbformat_minor": 5
}
