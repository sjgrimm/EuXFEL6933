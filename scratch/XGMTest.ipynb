{
 "cells": [
  {
   "cell_type": "code",
   "execution_count": null,
   "id": "8400f93a-819c-4eda-8c11-e399d4e2fb76",
   "metadata": {},
   "outputs": [],
   "source": [
    "import sys\n",
    "sys.path.append('/gpfs/exfel/exp/SPB/202501/p006933/usr/Software/analysistools')\n",
    "sys.path.append('/gpfs/exfel/exp/SPB/202501/p006933/usr/Software')\n",
    "import data_helper as dh\n",
    "from generatorpipeline.generatorpipeline import generatorpipeline as gp\n",
    "from generatorpipeline.generatorpipeline import accumulators\n",
    "import extra_data as ex\n",
    "import numpy as np\n",
    "import xarray as xr\n",
    "import dask.array as da"
   ]
  },
  {
   "cell_type": "code",
   "execution_count": null,
   "id": "53fdcfa8-c408-4b4a-acb3-57b473ea5def",
   "metadata": {},
   "outputs": [],
   "source": [
    "run=133\n",
    "data = ex.open_run(6933, run)\n",
    "\n",
    "xgm_field = dh.det['xgm9']\n",
    "data[xgm_field].keys()"
   ]
  },
  {
   "cell_type": "code",
   "execution_count": null,
   "id": "15115170-f79a-41b0-b553-5576949b9189",
   "metadata": {},
   "outputs": [],
   "source": [
    "%%time\n",
    "intensity = data[xgm_field, 'data.intensitySa1TD'].xarray()\n",
    "intensity = data[xgm_field, 'data.intensitySa1TD'].xarray()\n",
    "filtered_intensity = intensity.where(intensity != 1).dropna(dim='dim_0').isel(dim_0=slice(1,None))\n",
    "np.shape(intensity)"
   ]
  },
  {
   "cell_type": "code",
   "execution_count": null,
   "id": "819240c6-b0ef-4395-a3db-65cb9a96ede5",
   "metadata": {},
   "outputs": [],
   "source": [
    "def pulse_energy(run, xgm='xgm9'):\n",
    "    '''\n",
    "    returns \n",
    "    ----------\n",
    "    a xarray with the pulse energy for the \n",
    "    to access one trainId t_id: data.sel(trainId=t_id)\n",
    "    '''\n",
    "    data = ex.open_run(6933, run)\n",
    "    xgm_field = dh.det[xgm]\n",
    "    intensity = data[xgm_field, 'data.intensitySa1TD'].xarray()\n",
    "    filtered_intensity = intensity.where(intensity != 1).dropna(dim='dim_0').isel(dim_0=slice(1,None))\n",
    "    return filtered_intensity\n",
    "\n",
    "def pulse_energy_train(run, xgm='xgm9', flags=False):\n",
    "    '''\n",
    "    returns \n",
    "    ----------\n",
    "    a generator that gives the pulse_energy for trains using pulse_energy(run, xgm='xgm9') and data.sel(trainId=t_id).\n",
    "    Only exist as an option to directly apply the hitfinderflag when flags=True\n",
    "    '''\n",
    "    if flags:\n",
    "        flag_array=ds[dh.det['hitfinder'], 'data.hitFlag'].xarray()\n",
    "    pulse_energies=pulse_energy(run, xgm=xgm)\n",
    "    for t_id in pulse_energies.coords['trainId'].values:\n",
    "        pulse_energies_train=pulse_energies.sel(trainId=t_id).copy()\n",
    "        if flags:\n",
    "            mask = flag_array.sel(trainId=t_id)\n",
    "            mask=mask.rename({'trainId':'dim_0'})\n",
    "            yield pulse_energies_train.where(mask).dropna(dim='dim_0')\n",
    "        else:\n",
    "            yield pulse_energies_train\n",
    "\n",
    "\n"
   ]
  },
  {
   "cell_type": "code",
   "execution_count": null,
   "id": "0c956119-facb-45ea-b41d-abfc3b3e78b2",
   "metadata": {},
   "outputs": [],
   "source": [
    "%%time\n",
    "gen=pulse_energy_train(run, flags=True)\n"
   ]
  },
  {
   "cell_type": "code",
   "execution_count": null,
   "id": "0e6bccb1-90fa-4f37-a783-983be240b038",
   "metadata": {},
   "outputs": [],
   "source": [
    "%%time\n",
    "test=next(gen)"
   ]
  },
  {
   "cell_type": "code",
   "execution_count": null,
   "id": "ed62a7ff-0fa9-435b-a141-e17b8c16e91c",
   "metadata": {},
   "outputs": [],
   "source": [
    "test\n",
    "#plt.plot(test.dropna(dim='dim_0'))"
   ]
  },
  {
   "cell_type": "code",
   "execution_count": null,
   "id": "3933c52f-4504-4da4-b633-10b578988907",
   "metadata": {},
   "outputs": [],
   "source": [
    "data[dh.det['hitfinder']].keys()"
   ]
  },
  {
   "cell_type": "code",
   "execution_count": null,
   "id": "4a7b2c1d-49e3-4ea1-842f-06fa6ced250d",
   "metadata": {},
   "outputs": [],
   "source": [
    "%%time\n",
    "np.shape(filtered_intensity)"
   ]
  },
  {
   "cell_type": "code",
   "execution_count": null,
   "id": "d1fe31fa-b9e4-44d5-bf50-8eebc02f896a",
   "metadata": {},
   "outputs": [],
   "source": [
    "trimmed = filtered_intensity.isel(dim_0=slice(1,None))\n"
   ]
  },
  {
   "cell_type": "code",
   "execution_count": null,
   "id": "d4cccb27-d60b-4a8a-a18e-103077720b27",
   "metadata": {},
   "outputs": [],
   "source": [
    "isel(time=slice(1, None))"
   ]
  },
  {
   "cell_type": "code",
   "execution_count": null,
   "id": "e5b02712-7a75-4103-9b7d-c33a50582445",
   "metadata": {},
   "outputs": [],
   "source": []
  }
 ],
 "metadata": {
  "kernelspec": {
   "display_name": "xfel (current)",
   "language": "python",
   "name": "xfel-current"
  },
  "language_info": {
   "codemirror_mode": {
    "name": "ipython",
    "version": 3
   },
   "file_extension": ".py",
   "mimetype": "text/x-python",
   "name": "python",
   "nbconvert_exporter": "python",
   "pygments_lexer": "ipython3",
   "version": "3.11.6"
  }
 },
 "nbformat": 4,
 "nbformat_minor": 5
}
